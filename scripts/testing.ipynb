{
 "cells": [
  {
   "cell_type": "code",
   "execution_count": 2,
   "id": "initial_id",
   "metadata": {
    "collapsed": true,
    "ExecuteTime": {
     "end_time": "2024-03-17T01:06:08.525854200Z",
     "start_time": "2024-03-17T01:06:07.095807500Z"
    }
   },
   "outputs": [],
   "source": [
    "import numpy as np\n",
    "import cv2\n",
    "import matplotlib.pyplot as plt"
   ]
  },
  {
   "cell_type": "code",
   "execution_count": 16,
   "outputs": [],
   "source": [
    "original_image = cv2.imread(\"../images/olabuc.jpg\")\n",
    "img = cv2.cvtColor(original_image, cv2.COLOR_BGR2RGB)\n",
    "\n",
    "#noiseless_image = cv2.fastNlMeansDenoisingColored(original_image,None,30,30,21,41)\n",
    "\n",
    "#noiseless_image = cv2.blur(original_image,(10,10))\n",
    "#noiseless_image = cv2.GaussianBlur(original_image,(21,21),0)\n",
    "noiseless_image = cv2.medianBlur(original_image, 15) # na razie top\n",
    "#noiseless_image = cv2.blur(original_image,(10,10))\n",
    "\n",
    "vectorized = noiseless_image.reshape((-1,3))\n",
    "vectorized = np.float32(vectorized)\n",
    "criteria = (cv2.TERM_CRITERIA_EPS + cv2.TERM_CRITERIA_MAX_ITER, 10, 1.0)\n",
    "K = 17\n",
    "attempts = 10\n",
    "ret, label, center = cv2.kmeans(vectorized, K, None, criteria, attempts, cv2.KMEANS_PP_CENTERS)\n",
    "center = np.uint8(center)\n",
    "\n",
    "res = center[label.flatten()]\n",
    "result_image = res.reshape((img.shape))\n",
    "\n",
    "#noiseless_image_colored = cv2.fastNlMeansDenoisingColored(result_image,None,20,20,7,21)\n",
    "\n",
    "result = cv2.imwrite('../images/olabuc_medianblur.jpg', result_image)\n"
   ],
   "metadata": {
    "collapsed": false,
    "ExecuteTime": {
     "end_time": "2024-03-17T01:21:43.107795300Z",
     "start_time": "2024-03-17T01:21:18.328693100Z"
    }
   },
   "id": "e80dc059d38f5473"
  },
  {
   "cell_type": "code",
   "execution_count": null,
   "outputs": [],
   "source": [
    "plt.figure(figsize=(32,18))\n",
    "plt.imshow(img)\n",
    "plt.show()"
   ],
   "metadata": {
    "collapsed": false
   },
   "id": "de3cb99ea991e39a"
  },
  {
   "cell_type": "code",
   "execution_count": null,
   "outputs": [],
   "source": [
    "plt.figure(figsize=(32,18))\n",
    "plt.imshow(result_image)\n",
    "plt.show()"
   ],
   "metadata": {
    "collapsed": false
   },
   "id": "cdece0ef307f11a8"
  },
  {
   "cell_type": "code",
   "execution_count": null,
   "outputs": [],
   "source": [
    "plt.figure(figsize=(32,18))\n",
    "plt.imshow(noiseless_image)\n",
    "plt.show()"
   ],
   "metadata": {
    "collapsed": false
   },
   "id": "a72831c0b9b1e0c7"
  },
  {
   "cell_type": "code",
   "execution_count": null,
   "outputs": [],
   "source": [],
   "metadata": {
    "collapsed": false
   },
   "id": "365305b4bcba300c"
  },
  {
   "cell_type": "code",
   "execution_count": null,
   "outputs": [],
   "source": [],
   "metadata": {
    "collapsed": false
   },
   "id": "e500efeb5e50d06d"
  },
  {
   "cell_type": "code",
   "execution_count": null,
   "outputs": [],
   "source": [],
   "metadata": {
    "collapsed": false
   },
   "id": "4601b78fd3f34013"
  }
 ],
 "metadata": {
  "kernelspec": {
   "display_name": "Python 3",
   "language": "python",
   "name": "python3"
  },
  "language_info": {
   "codemirror_mode": {
    "name": "ipython",
    "version": 2
   },
   "file_extension": ".py",
   "mimetype": "text/x-python",
   "name": "python",
   "nbconvert_exporter": "python",
   "pygments_lexer": "ipython2",
   "version": "2.7.6"
  }
 },
 "nbformat": 4,
 "nbformat_minor": 5
}
